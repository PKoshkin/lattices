{
 "cells": [
  {
   "cell_type": "code",
   "execution_count": 1,
   "metadata": {},
   "outputs": [],
   "source": [
    "from __future__ import print_function\n",
    "from code import *"
   ]
  },
  {
   "cell_type": "code",
   "execution_count": 2,
   "metadata": {},
   "outputs": [],
   "source": [
    "raw_train = read_file(\"adult.data.txt\")\n",
    "raw_test = read_file(\"adult.test.txt\")"
   ]
  },
  {
   "cell_type": "code",
   "execution_count": 3,
   "metadata": {},
   "outputs": [],
   "source": [
    "average_positive_target_rate = get_average_positive_target_rate(raw_train)\n",
    "X_train, Y_train = make_dataset(raw_train, average_positive_target_rate)\n",
    "X_train, Y_train = unique_dataset(X_train, Y_train)"
   ]
  },
  {
   "cell_type": "code",
   "execution_count": 4,
   "metadata": {},
   "outputs": [
    {
     "data": {
      "text/plain": [
       "((15210, 75), (15210,))"
      ]
     },
     "execution_count": 4,
     "metadata": {},
     "output_type": "execute_result"
    }
   ],
   "source": [
    "X_train.shape, Y_train.shape"
   ]
  },
  {
   "cell_type": "code",
   "execution_count": 8,
   "metadata": {},
   "outputs": [],
   "source": [
    "train_size = 7000\n",
    "test_size = 500\n",
    "permupation = np.random.permutation(len(X_train))\n",
    "train_indices = permupation[:train_size]\n",
    "test_indices = permupation[train_size:(train_size + test_size)]\n",
    "\n",
    "train_x = X_train[train_indices]\n",
    "train_y = Y_train[train_indices]\n",
    "test_x = X_train[test_indices]\n",
    "test_y = Y_train[test_indices]"
   ]
  },
  {
   "cell_type": "code",
   "execution_count": 9,
   "metadata": {},
   "outputs": [],
   "source": [
    "def make_kfold(X, Y, folds):\n",
    "    kf = KFold(n_splits=folds)\n",
    "    metrics = []\n",
    "    stats = []\n",
    "    for train_index, test_index in kf.split(X):\n",
    "        train_x, test_x = X[train_index], X[test_index]\n",
    "        train_y, test_y = Y[train_index], Y[test_index]\n",
    "        print(len(train_x), len(test_x))\n",
    "        new_metrics = []\n",
    "        new_metrics.append(get_catboost_acc(train_x, train_y, test_x, test_y))\n",
    "        \n",
    "        pos_stats, neg_stats = lattices_stats(train_x, train_y, test_x)\n",
    "\n",
    "        stats.append()\n",
    "        \n",
    "        prediction_0 = [\n",
    "            1 if pos_stat[0] > neg_stat[0] else 0\n",
    "            for pos_stat, neg_stat in zip(pos_stats, neg_stats)\n",
    "        ]\n",
    "        prediction_1 = [\n",
    "            1 if pos_stat[0] > neg_stat[0] else 0\n",
    "            for pos_stat, neg_stat in zip(pos_stats, neg_stats)\n",
    "        ]\n",
    "        prediction_2 = [\n",
    "            1 if pos_stat[0] > neg_stat[0] else 0\n",
    "            for pos_stat, neg_stat in zip(pos_stats, neg_stats)\n",
    "        ]\n",
    "        prediction_3 = [\n",
    "            1 if pos_stat.sum() > neg_stat.sum() else 0\n",
    "            for pos_stat, neg_stat in zip(pos_stats, neg_stats)\n",
    "        ]\n",
    "\n",
    "        new_metrics.append(accuracy_score(prediction_0, test_y))\n",
    "        new_metrics.append(accuracy_score(prediction_1, test_y))\n",
    "        new_metrics.append(accuracy_score(prediction_2, test_y))\n",
    "        new_metrics.append(accuracy_score(prediction_3, test_y))\n",
    "        new_metrics.append(accuracy_score(np.zeros_like(test_y), test_y))\n",
    "        \n",
    "        metrics.append(new_metrics)\n",
    "    return np.array(metrics)"
   ]
  },
  {
   "cell_type": "code",
   "execution_count": null,
   "metadata": {},
   "outputs": [
    {
     "name": "stdout",
     "output_type": "stream",
     "text": [
      "4666 2334\n",
      "0\n",
      "10\n",
      "20\n",
      "30\n",
      "40\n",
      "50\n"
     ]
    }
   ],
   "source": [
    "make_kfold(train_x, train_y, 3)"
   ]
  },
  {
   "cell_type": "code",
   "execution_count": null,
   "metadata": {},
   "outputs": [],
   "source": []
  },
  {
   "cell_type": "code",
   "execution_count": null,
   "metadata": {},
   "outputs": [],
   "source": []
  },
  {
   "cell_type": "code",
   "execution_count": null,
   "metadata": {},
   "outputs": [],
   "source": []
  }
 ],
 "metadata": {
  "kernelspec": {
   "display_name": "Python 2",
   "language": "python",
   "name": "python2"
  },
  "language_info": {
   "codemirror_mode": {
    "name": "ipython",
    "version": 2
   },
   "file_extension": ".py",
   "mimetype": "text/x-python",
   "name": "python",
   "nbconvert_exporter": "python",
   "pygments_lexer": "ipython2",
   "version": "2.7.12"
  }
 },
 "nbformat": 4,
 "nbformat_minor": 2
}
