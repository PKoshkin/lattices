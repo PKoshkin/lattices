{
 "cells": [
  {
   "cell_type": "code",
   "execution_count": 5,
   "metadata": {},
   "outputs": [
    {
     "data": {
      "image/png": "[encoded data removed]",
      "text/plain": [
       "<Figure size 432x288 with 1 Axes>"
      ]
     },
     "metadata": {
      "needs_background": "light"
     },
     "output_type": "display_data"
    }
   ],
   "source": [
    "plt.hist(list(line[0] for line in train), bins=100)\n",
    "plt.show()"
   ]
  },
  {
   "cell_type": "code",
   "execution_count": 8,
   "metadata": {},
   "outputs": [],
   "source": [
    "description = \"\"\"age – The age of the individual\n",
    "type_employer – The type of employer the individual has. Whether they are government, military, private, an d so on.\n",
    "fnlwgt – The \\# of people the census takers believe that observation represents. We will be ignoring this variable\n",
    "education – The highest level of education achieved for that individual\n",
    "education_num – Highest level of education in numerical form\n",
    "marital – Marital status of the individual\n",
    "occupation – The occupation of the individual\n",
    "relationship – A bit more difficult to explain. Contains family relationship values like husband, father, and so on, but only contains one per observation. I’m not sure what this is supposed to represent\n",
    "race – descriptions of the individuals race. Black, White, Eskimo, and so on\n",
    "sex – Biological Sex\n",
    "capital_gain – Capital gains recorded\n",
    "capital_loss – Capital Losses recorded\n",
    "hr_per_week – Hours worked per week\n",
    "country – Country of origin for person\n",
    "income – Boolean Variable. Whether or not the person makes more than \\$50,000 per annum income.\"\"\"\n",
    "description = description.split('\\n')"
   ]
  },
  {
   "cell_type": "code",
   "execution_count": 9,
   "metadata": {
    "scrolled": false
   },
   "outputs": [
    {
     "name": "stdout",
     "output_type": "stream",
     "text": [
      "----------------------------------------------------------------------------------------------------\n",
      "0) 73 age – The age of the individual\n",
      "----------------------------------------------------------------------------------------------------\n",
      "1) 9 type_employer – The type of employer the individual has. Whether they are government, military, private, an d so on.\n",
      "----------------------------------------------------------------------------------------------------\n",
      "2) 21648 fnlwgt – The \\# of people the census takers believe that observation represents. We will be ignoring this variable\n",
      "----------------------------------------------------------------------------------------------------\n",
      "3) 16 education – The highest level of education achieved for that individual\n",
      "----------------------------------------------------------------------------------------------------\n",
      "4) 16 education_num – Highest level of education in numerical form\n",
      "----------------------------------------------------------------------------------------------------\n",
      "5) 7 marital – Marital status of the individual\n",
      "----------------------------------------------------------------------------------------------------\n",
      "6) 15 occupation – The occupation of the individual\n",
      "----------------------------------------------------------------------------------------------------\n",
      "7) 6 relationship – A bit more difficult to explain. Contains family relationship values like husband, father, and so on, but only contains one per observation. I’m not sure what this is supposed to represent\n",
      "----------------------------------------------------------------------------------------------------\n",
      "8) 5 race – descriptions of the individuals race. Black, White, Eskimo, and so on\n",
      "----------------------------------------------------------------------------------------------------\n",
      "9) 2 sex – Biological Sex\n",
      "----------------------------------------------------------------------------------------------------\n",
      "10) 119 capital_gain – Capital gains recorded\n",
      "----------------------------------------------------------------------------------------------------\n",
      "11) 92 capital_loss – Capital Losses recorded\n",
      "----------------------------------------------------------------------------------------------------\n",
      "12) 94 hr_per_week – Hours worked per week\n",
      "----------------------------------------------------------------------------------------------------\n",
      "13) 42 country – Country of origin for person\n",
      "----------------------------------------------------------------------------------------------------\n",
      "14) 2 income – Boolean Variable. Whether or not the person makes more than \\$50,000 per annum income.\n"
     ]
    }
   ],
   "source": [
    "for key in range(keys_num):\n",
    "    print('-' * 100)\n",
    "    print(\"{})\".format(key), len(set(line[key] for line in train)), description[key])"
   ]
  },
  {
   "cell_type": "raw",
   "metadata": {},
   "source": [
    "age - split_one_hot 5\n",
    "type_employer - one_hot 9\n",
    "fnlwgt - на йух\n",
    "education_num - one_hot 16\n",
    "marital - one_hot 7\n",
    "occupation - one_hot 15\n",
    "relationship - one_hot 6\n",
    "race - one_hot 5\n",
    "sex - one_hot 2\n",
    "capital_gain - one_hot 2 (== 0 or != 0)\n",
    "capital_loss - one_hot 2 (== 0 or != 0)\n",
    "hr_per_week - one_hot 3 (> 40, == 40 or < 40)\n",
    "country - one_hot 3 (== United-States, average positive target rate > then in USA, or <)\n",
    "5 + 9 + 16 + 7 + 15 + 6 + 5 + 2 + 2 + 2 + 3 + 3 == 75"
   ]
  }
 ],
 "metadata": {
  "kernelspec": {
   "display_name": "Python 2",
   "language": "python",
   "name": "python2"
  },
  "language_info": {
   "codemirror_mode": {
    "name": "ipython",
    "version": 2
   },
   "file_extension": ".py",
   "mimetype": "text/x-python",
   "name": "python",
   "nbconvert_exporter": "python",
   "pygments_lexer": "ipython2",
   "version": "2.7.12"
  }
 },
 "nbformat": 4,
 "nbformat_minor": 2
}
