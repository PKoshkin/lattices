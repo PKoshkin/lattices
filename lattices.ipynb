{
 "cells": [
  {
   "cell_type": "code",
   "execution_count": 1,
   "metadata": {},
   "outputs": [],
   "source": [
    "import matplotlib.pyplot as plt\n",
    "import numpy as np\n",
    "from collections import Counter, defaultdict\n",
    "from IPython.display import clear_output\n",
    "%matplotlib inline"
   ]
  },
  {
   "cell_type": "code",
   "execution_count": 2,
   "metadata": {},
   "outputs": [],
   "source": [
    "with open(\"adult.test.txt_bug\") as handler1, open(\"adult.test.txt\", 'w') as handler2:\n",
    "    for line in handler1:\n",
    "        print(line.strip()[:-1], file=handler2)"
   ]
  },
  {
   "cell_type": "code",
   "execution_count": 3,
   "metadata": {},
   "outputs": [],
   "source": [
    "def read_file(filename):\n",
    "    with open(filename) as handler:\n",
    "        return [line.strip().split(\", \") for line in handler]"
   ]
  },
  {
   "cell_type": "code",
   "execution_count": 4,
   "metadata": {},
   "outputs": [],
   "source": [
    "train = read_file(\"adult.data.txt\")\n",
    "test = read_file(\"adult.test.txt\")"
   ]
  },
  {
   "cell_type": "code",
   "execution_count": 5,
   "metadata": {},
   "outputs": [],
   "source": [
    "assert len(set(len(line) for line in train)) == 1"
   ]
  },
  {
   "cell_type": "code",
   "execution_count": 6,
   "metadata": {},
   "outputs": [
    {
     "data": {
      "image/png": "[encoded data removed]",
      "text/plain": [
       "<Figure size 432x288 with 1 Axes>"
      ]
     },
     "metadata": {
      "needs_background": "light"
     },
     "output_type": "display_data"
    }
   ],
   "source": [
    "plt.hist(list(line[0] for line in train), bins=100)\n",
    "plt.show()"
   ]
  },
  {
   "cell_type": "code",
   "execution_count": 7,
   "metadata": {},
   "outputs": [],
   "source": [
    "keys_num = len(train[0])"
   ]
  },
  {
   "cell_type": "code",
   "execution_count": 8,
   "metadata": {},
   "outputs": [],
   "source": [
    "for line in train:\n",
    "    assert len(line) == keys_num"
   ]
  },
  {
   "cell_type": "code",
   "execution_count": 9,
   "metadata": {},
   "outputs": [],
   "source": [
    "description = \"\"\"age – The age of the individual\n",
    "type_employer – The type of employer the individual has. Whether they are government, military, private, an d so on.\n",
    "fnlwgt – The \\# of people the census takers believe that observation represents. We will be ignoring this variable\n",
    "education – The highest level of education achieved for that individual\n",
    "education_num – Highest level of education in numerical form\n",
    "marital – Marital status of the individual\n",
    "occupation – The occupation of the individual\n",
    "relationship – A bit more difficult to explain. Contains family relationship values like husband, father, and so on, but only contains one per observation. I’m not sure what this is supposed to represent\n",
    "race – descriptions of the individuals race. Black, White, Eskimo, and so on\n",
    "sex – Biological Sex\n",
    "capital_gain – Capital gains recorded\n",
    "capital_loss – Capital Losses recorded\n",
    "hr_per_week – Hours worked per week\n",
    "country – Country of origin for person\n",
    "income – Boolean Variable. Whether or not the person makes more than \\$50,000 per annum income.\"\"\"\n",
    "description = description.split('\\n')"
   ]
  },
  {
   "cell_type": "code",
   "execution_count": 10,
   "metadata": {
    "scrolled": false
   },
   "outputs": [
    {
     "name": "stdout",
     "output_type": "stream",
     "text": [
      "----------------------------------------------------------------------------------------------------\n",
      "0) 73 age – The age of the individual\n",
      "----------------------------------------------------------------------------------------------------\n",
      "1) 9 type_employer – The type of employer the individual has. Whether they are government, military, private, an d so on.\n",
      "----------------------------------------------------------------------------------------------------\n",
      "2) 21648 fnlwgt – The \\# of people the census takers believe that observation represents. We will be ignoring this variable\n",
      "----------------------------------------------------------------------------------------------------\n",
      "3) 16 education – The highest level of education achieved for that individual\n",
      "----------------------------------------------------------------------------------------------------\n",
      "4) 16 education_num – Highest level of education in numerical form\n",
      "----------------------------------------------------------------------------------------------------\n",
      "5) 7 marital – Marital status of the individual\n",
      "----------------------------------------------------------------------------------------------------\n",
      "6) 15 occupation – The occupation of the individual\n",
      "----------------------------------------------------------------------------------------------------\n",
      "7) 6 relationship – A bit more difficult to explain. Contains family relationship values like husband, father, and so on, but only contains one per observation. I’m not sure what this is supposed to represent\n",
      "----------------------------------------------------------------------------------------------------\n",
      "8) 5 race – descriptions of the individuals race. Black, White, Eskimo, and so on\n",
      "----------------------------------------------------------------------------------------------------\n",
      "9) 2 sex – Biological Sex\n",
      "----------------------------------------------------------------------------------------------------\n",
      "10) 119 capital_gain – Capital gains recorded\n",
      "----------------------------------------------------------------------------------------------------\n",
      "11) 92 capital_loss – Capital Losses recorded\n",
      "----------------------------------------------------------------------------------------------------\n",
      "12) 94 hr_per_week – Hours worked per week\n",
      "----------------------------------------------------------------------------------------------------\n",
      "13) 42 country – Country of origin for person\n",
      "----------------------------------------------------------------------------------------------------\n",
      "14) 2 income – Boolean Variable. Whether or not the person makes more than \\$50,000 per annum income.\n"
     ]
    }
   ],
   "source": [
    "for key in range(keys_num):\n",
    "    print('-' * 100)\n",
    "    print(\"{})\".format(key), len(set(line[key] for line in train)), description[key])"
   ]
  },
  {
   "cell_type": "raw",
   "metadata": {},
   "source": [
    "age - split_one_hot 5\n",
    "type_employer - one_hot 9\n",
    "fnlwgt - на йух\n",
    "education_num - one_hot 16\n",
    "marital - one_hot 7\n",
    "occupation - one_hot 15\n",
    "relationship - one_hot 6\n",
    "race - one_hot 5\n",
    "sex - one_hot 2\n",
    "capital_gain - one_hot 2 (== 0 or != 0)\n",
    "capital_loss - one_hot 2 (== 0 or != 0)\n",
    "hr_per_week - one_hot 3 (> 40, == 40 or < 40)\n",
    "country - one_hot 3 (== United-States, average positive target rate > then in USA, or <)\n",
    "5 + 9 + 16 + 7 + 15 + 6 + 5 + 2 + 2 + 2 + 3 + 3 == 75"
   ]
  },
  {
   "cell_type": "code",
   "execution_count": 11,
   "metadata": {},
   "outputs": [],
   "source": [
    "def split_one_hot(values, splits):\n",
    "    result = np.zeros((len(values), len(splits) - 1))\n",
    "    for i, value in enumerate(values):\n",
    "        for index, (min_bound, max_bound) in enumerate(zip(splits[:-1], splits[1:])):\n",
    "            if (value >= min_bound) and (value < max_bound):\n",
    "                result[i][index] = 1\n",
    "                break\n",
    "    return result\n",
    "\n",
    "def split_one_hot_uniform(values, batches):\n",
    "    minimum = np.min(values)\n",
    "    maximum = np.max(values)\n",
    "    splits = np.linspace(minimum, maximum, num=batches + 1)\n",
    "    return split_one_hot(values, splits)\n",
    "\n",
    "def equal_one_hot(values, positive_value):\n",
    "    result = np.array([1, 0]).reshape([1, -1]).repeat(len(values), axis=0)\n",
    "    positive_indices = (np.array(values) == positive_value)\n",
    "    result[positive_indices, 0] = 0\n",
    "    result[positive_indices, 1] = 1\n",
    "    return result\n",
    "\n",
    "def around_one_hot(values, middle_value):\n",
    "    result = np.zeros((len(values), 3))\n",
    "    middle_indices = (np.array(values) == middle_value)\n",
    "    more_indices = (np.array(values) > middle_value)\n",
    "    less_indices = (np.array(values) < middle_value)\n",
    "    result[middle_indices, 1] = 1\n",
    "    result[more_indices, 2] = 1\n",
    "    result[less_indices, 0] = 1\n",
    "    return result\n",
    "\n",
    "def make_map(values):\n",
    "    values_set = set(values)\n",
    "    return {\n",
    "        value: i\n",
    "        for i, value in enumerate(values_set)\n",
    "    }\n",
    "\n",
    "def map_one_hot(values, map_to_label):\n",
    "    max_label = len(map_to_label)\n",
    "    result = np.zeros((len(values), max_label))\n",
    "    for i, value in enumerate(values):\n",
    "        result[i][map_to_label[value]] = 1\n",
    "    return result\n",
    "\n",
    "def map_one_hot_le(values, map_to_label):\n",
    "    max_label = len(map_to_label)\n",
    "    result = np.zeros((len(values), max_label))\n",
    "    for i, value in enumerate(values):\n",
    "        for j in range(i + 1):\n",
    "            result[j][map_to_label[value]] = 1\n",
    "    return result\n",
    "\n",
    "def function_one_hot(values, function):\n",
    "    labels = list(map(function, values))\n",
    "    max_label = len(map_to_label)\n",
    "    result = np.zeros((len(values), max_label))\n",
    "    for i, label in enumerate(labels):\n",
    "        result[i][label] = 1\n",
    "    return result"
   ]
  },
  {
   "cell_type": "code",
   "execution_count": 12,
   "metadata": {},
   "outputs": [],
   "source": [
    "def make_dataset(raw_data, average_positive_by_contry):\n",
    "    columns = [\n",
    "        [line[i] for line in raw_data]\n",
    "        for i in range(len(raw_data[0]))\n",
    "    ]\n",
    "\n",
    "    # map one_hot\n",
    "    one_hot_indices = [1, 5, 6, 7, 8, 9]\n",
    "    maps = [\n",
    "        make_map(columns[index])\n",
    "        for index in one_hot_indices\n",
    "    ]\n",
    "    features = []\n",
    "    for index, map_to_labels in zip(one_hot_indices, maps):\n",
    "        features.append(map_one_hot(columns[index], map_to_labels))\n",
    "    \n",
    "    # le one_hot\n",
    "    education_num_map = make_map(columns[4])\n",
    "    features.append(map_one_hot(columns[4], education_num_map))\n",
    "    \n",
    "    # intervel one_hot\n",
    "    batches_indices = [0]\n",
    "    batches = [5]\n",
    "    for index, batch in zip(batches_indices, batches):\n",
    "        values = list(map(int, columns[index]))\n",
    "        features.append(split_one_hot_uniform(values, batches=batch))\n",
    "\n",
    "    # zero or not\n",
    "    for index in [10, 11]:\n",
    "        values = list(map(int, columns[index]))\n",
    "        features.append(equal_one_hot(values, 0))\n",
    "    function_indices = []\n",
    "    \n",
    "    # more, less or equal\n",
    "    values = list(map(int, columns[12]))\n",
    "    features.append(around_one_hot(values, 40))\n",
    "    \n",
    "    # contry\n",
    "\n",
    "    def featrue_by_contry(country):\n",
    "        if country == 'United-States':\n",
    "            return [0, 1, 0]\n",
    "        elif average_positive_by_contry[country] < average_positive_by_contry['United-States']:\n",
    "            return [1, 0, 0]\n",
    "        else:\n",
    "            return [0, 0, 1]\n",
    "\n",
    "    contry_features = np.array([\n",
    "        featrue_by_contry(country)\n",
    "        for country in columns[13]\n",
    "    ])\n",
    "    features.append(contry_features)\n",
    "    \n",
    "    targets = np.array([\n",
    "        0 if target == '<=50K' else 1\n",
    "        for target in columns[-1]\n",
    "    ])\n",
    "    \n",
    "    return np.concatenate(features, axis=1), targets"
   ]
  },
  {
   "cell_type": "code",
   "execution_count": 13,
   "metadata": {},
   "outputs": [],
   "source": [
    "countries = set(line[13] for line in train)\n",
    "average_positive_target_rate = {}\n",
    "countries_positives = defaultdict(lambda: 0)\n",
    "countries_negatives = defaultdict(lambda: 0)\n",
    "for line in train:\n",
    "    if line[-1] == '<=50K':\n",
    "        countries_negatives[line[13]] += 1\n",
    "    else:\n",
    "        countries_positives[line[13]] += 1\n",
    "for country in countries:\n",
    "    support = countries_positives[country] + countries_negatives[country]\n",
    "    rate = float(countries_positives[country]) / support\n",
    "    average_positive_target_rate[country] = rate"
   ]
  },
  {
   "cell_type": "code",
   "execution_count": 14,
   "metadata": {},
   "outputs": [],
   "source": [
    "for line in test:\n",
    "    assert len(line) == keys_num"
   ]
  },
  {
   "cell_type": "code",
   "execution_count": 15,
   "metadata": {},
   "outputs": [],
   "source": [
    "X_train, Y_train = make_dataset(train, average_positive_target_rate)\n",
    "X_test, Y_test = make_dataset(test, average_positive_target_rate)"
   ]
  },
  {
   "cell_type": "code",
   "execution_count": 16,
   "metadata": {},
   "outputs": [
    {
     "data": {
      "text/plain": [
       "((32561, 75), (16281, 75))"
      ]
     },
     "execution_count": 16,
     "metadata": {},
     "output_type": "execute_result"
    }
   ],
   "source": [
    "X_train.shape, X_test.shape"
   ]
  },
  {
   "cell_type": "code",
   "execution_count": 17,
   "metadata": {},
   "outputs": [],
   "source": [
    "from catboost import CatBoostClassifier\n",
    "from sklearn.metrics import accuracy_score\n",
    "from sklearn.model_selection import KFold"
   ]
  },
  {
   "cell_type": "code",
   "execution_count": 18,
   "metadata": {},
   "outputs": [],
   "source": [
    "def get_catboost_acc(train_x, train_y, test_x, test_y):\n",
    "    catboost_model = CatBoostClassifier(iterations=15)\n",
    "    catboost_model.fit(train_x, train_y, verbose=0)\n",
    "    catboost_predictions = catboost_model.predict(test_x)\n",
    "    return accuracy_score(catboost_predictions, test_y)"
   ]
  },
  {
   "cell_type": "code",
   "execution_count": 19,
   "metadata": {},
   "outputs": [],
   "source": [
    "def k_fold(X, Y, accuracy_calculator, folds=5):\n",
    "    assert len(X) == len(Y)\n",
    "    kf = KFold(n_splits=folds)\n",
    "    evals = []\n",
    "    for train_index, test_index in kf.split(X):\n",
    "        train_x, test_x = X[train_index], X[test_index]\n",
    "        train_y, test_y = Y[train_index], Y[test_index]\n",
    "        evals.append(accuracy_calculator(train_x, train_y, test_x, test_y))\n",
    "    return np.array(evals)"
   ]
  },
  {
   "cell_type": "code",
   "execution_count": 20,
   "metadata": {},
   "outputs": [
    {
     "data": {
      "text/plain": [
       "0.7820158466924636"
      ]
     },
     "execution_count": 20,
     "metadata": {},
     "output_type": "execute_result"
    }
   ],
   "source": [
    "get_catboost_acc(X_train, Y_train, X_test, Y_test)"
   ]
  },
  {
   "cell_type": "code",
   "execution_count": 21,
   "metadata": {},
   "outputs": [
    {
     "data": {
      "text/plain": [
       "array([0.84692154, 0.84474816, 0.84966216, 0.84459459, 0.84628378])"
      ]
     },
     "execution_count": 21,
     "metadata": {},
     "output_type": "execute_result"
    }
   ],
   "source": [
    "k_fold(X_train, Y_train, get_catboost_acc)"
   ]
  },
  {
   "cell_type": "code",
   "execution_count": 22,
   "metadata": {},
   "outputs": [],
   "source": [
    "def to_set(features):\n",
    "    return set(i for i, feature in enumerate(features) if feature == 1)\n",
    "\n",
    "def lattices_acc(train_x, train_y, test_x, test_y):\n",
    "    positives = [\n",
    "        to_set(x)\n",
    "        for x, y in zip(train_x, train_y)\n",
    "        if y == 1\n",
    "    ]\n",
    "    negatives = [\n",
    "        to_set(x)\n",
    "        for x, y in zip(train_x, train_y)\n",
    "        if y == 0\n",
    "    ]\n",
    "    test_x = [to_set(x) for x in test_x]\n",
    "    print(\"ok 1\")\n",
    "    positives_common_features = [\n",
    "        np.mean([\n",
    "            len(x & positive)\n",
    "            for positive in positives\n",
    "        ])\n",
    "        for x in test_x\n",
    "    ]\n",
    "    print(\"ok 2\")\n",
    "    negatives_common_features = [\n",
    "        np.mean([\n",
    "            len(x & negative)\n",
    "            for negative in negatives\n",
    "        ])\n",
    "        for x in test_x\n",
    "    ]\n",
    "    print(\"ok 3\")\n",
    "    prediction = np.array([\n",
    "        1 if mean_positives > mean_negatives else 0\n",
    "        for mean_negatives, mean_positives in zip(negatives_common_features, positives_common_features)\n",
    "    ])\n",
    "    print(\"ok 4\")\n",
    "    return accuracy_score(prediction, test_y)"
   ]
  },
  {
   "cell_type": "code",
   "execution_count": 23,
   "metadata": {},
   "outputs": [
    {
     "name": "stdout",
     "output_type": "stream",
     "text": [
      "ok 1\n",
      "ok 2\n",
      "ok 3\n",
      "ok 4\n",
      "CPU times: user 4min 3s, sys: 25.1 s, total: 4min 28s\n",
      "Wall time: 4min 30s\n"
     ]
    },
    {
     "data": {
      "text/plain": [
       "0.719304711012837"
      ]
     },
     "execution_count": 23,
     "metadata": {},
     "output_type": "execute_result"
    }
   ],
   "source": [
    "%%time\n",
    "lattices_acc(X_train, Y_train, X_test, Y_test)"
   ]
  },
  {
   "cell_type": "code",
   "execution_count": 24,
   "metadata": {},
   "outputs": [],
   "source": [
    "def lattices_acc_2(train_x, train_y, test_x, test_y):\n",
    "    positives = [\n",
    "        to_set(x)\n",
    "        for x, y in zip(train_x, train_y)\n",
    "        if y == 1\n",
    "    ]\n",
    "    negatives = [\n",
    "        to_set(x)\n",
    "        for x, y in zip(train_x, train_y)\n",
    "        if y == 0\n",
    "    ]\n",
    "    test_x = [to_set(x) for x in test_x]\n",
    "    print(\"ok 1\")\n",
    "    positives_common_features = [\n",
    "        np.sum([\n",
    "            len(x & positive)\n",
    "            for positive in positives\n",
    "        ])\n",
    "        for x in test_x\n",
    "    ]\n",
    "    print(\"ok 2\")\n",
    "    negatives_common_features = [\n",
    "        np.sum([\n",
    "            len(x & negative)\n",
    "            for negative in negatives\n",
    "        ])\n",
    "        for x in test_x\n",
    "    ]\n",
    "    print(\"ok 3\")\n",
    "    prediction = np.array([\n",
    "        1 if mean_positives > mean_negatives else 0\n",
    "        for mean_negatives, mean_positives in zip(negatives_common_features, positives_common_features)\n",
    "    ])\n",
    "    print(\"ok 4\")\n",
    "    return accuracy_score(prediction, test_y)"
   ]
  },
  {
   "cell_type": "code",
   "execution_count": 25,
   "metadata": {},
   "outputs": [
    {
     "name": "stdout",
     "output_type": "stream",
     "text": [
      "ok 1\n",
      "ok 2\n",
      "ok 3\n",
      "ok 4\n",
      "CPU times: user 3min 31s, sys: 271 ms, total: 3min 32s\n",
      "Wall time: 3min 32s\n"
     ]
    },
    {
     "data": {
      "text/plain": [
       "0.7637737239727289"
      ]
     },
     "execution_count": 25,
     "metadata": {},
     "output_type": "execute_result"
    }
   ],
   "source": [
    "%%time\n",
    "lattices_acc_2(X_train, Y_train, X_test, Y_test)"
   ]
  },
  {
   "cell_type": "code",
   "execution_count": 26,
   "metadata": {},
   "outputs": [],
   "source": [
    "def zero_acc(train_x, train_y, test_x, test_y):\n",
    "    return accuracy_score(np.zeros_like(test_y), test_y)"
   ]
  },
  {
   "cell_type": "code",
   "execution_count": 27,
   "metadata": {},
   "outputs": [
    {
     "data": {
      "text/plain": [
       "array([0.75863657, 0.76320639, 0.76213145, 0.75767813, 0.75429975])"
      ]
     },
     "execution_count": 27,
     "metadata": {},
     "output_type": "execute_result"
    }
   ],
   "source": [
    "k_fold(X_train, Y_train, zero_acc)"
   ]
  },
  {
   "cell_type": "code",
   "execution_count": 28,
   "metadata": {},
   "outputs": [],
   "source": [
    "def lattices_predict(train_x, train_y, x):\n",
    "    positives = [\n",
    "        to_set(x)\n",
    "        for x, y in zip(train_x, train_y)\n",
    "        if y == 1\n",
    "    ]\n",
    "    negatives = [\n",
    "        to_set(x)\n",
    "        for x, y in zip(train_x, train_y)\n",
    "        if y == 0\n",
    "    ]\n",
    "    x = to_set(x)\n",
    "    print(\"ok\")\n",
    "    pure_positive_subsets = []\n",
    "    for positive in positives:\n",
    "        intersection = positive & x\n",
    "        for negative in negatives:\n",
    "            if intersection <= negative:\n",
    "                break\n",
    "        else:\n",
    "            pure_positive_subsets.append(intersection)\n",
    "    pure_negative_subsets = []\n",
    "    for negative in negatives:\n",
    "        intersection = negative & x\n",
    "        for positive in positives:\n",
    "            if intersection <= positive:\n",
    "                break\n",
    "        else:\n",
    "            pure_negative_subsets.append(intersection)\n",
    "    return pure_positive_subsets, pure_negative_subsets"
   ]
  },
  {
   "cell_type": "code",
   "execution_count": 30,
   "metadata": {},
   "outputs": [],
   "source": [
    "def lattices_have_pure_positive_subset_acc(train_x, train_y, test_x, test_y):\n",
    "    positives = [\n",
    "        to_set(x)\n",
    "        for x, y in zip(train_x, train_y)\n",
    "        if y == 1\n",
    "    ]\n",
    "    negatives = [\n",
    "        to_set(x)\n",
    "        for x, y in zip(train_x, train_y)\n",
    "        if y == 0\n",
    "    ]\n",
    "    test_x = [to_set(x) for x in test_x]\n",
    "    \n",
    "    pure_negative_subsets_lens = []\n",
    "    pure_positive_subsets_lens = []\n",
    "    for i, x in enumerate(test_x):\n",
    "        if i % 10 == 0:\n",
    "            clear_output()\n",
    "            print(i)\n",
    "        pure_positive_subsets = []\n",
    "        for positive in positives:\n",
    "            intersection = positive & x\n",
    "            for negative in negatives:\n",
    "                if intersection <= negative:\n",
    "                    break\n",
    "            else:\n",
    "                pure_positive_subsets.append(intersection)\n",
    "        pure_negative_subsets = []\n",
    "        for negative in negatives:\n",
    "            intersection = negative & x\n",
    "            for positive in positives:\n",
    "                if intersection <= positive:\n",
    "                    break\n",
    "            else:\n",
    "                pure_negative_subsets.append(intersection)\n",
    "        \n",
    "        pure_negative_subsets_lens.append(len(pure_negative_subsets))\n",
    "        pure_positive_subsets_lens.append(len(pure_positive_subsets))\n",
    "    \n",
    "    return pure_negative_subsets_lens, pure_positive_subsets_lens"
   ]
  },
  {
   "cell_type": "code",
   "execution_count": null,
   "metadata": {},
   "outputs": [
    {
     "name": "stdout",
     "output_type": "stream",
     "text": [
      "4540\n"
     ]
    }
   ],
   "source": [
    "pure_negative_subsets_lens, pure_positive_subsets_lens = lattices_have_pure_positive_subset_acc(\n",
    "    X_train,\n",
    "    Y_train,\n",
    "    X_test,\n",
    "    Y_test\n",
    ")"
   ]
  },
  {
   "cell_type": "code",
   "execution_count": null,
   "metadata": {},
   "outputs": [],
   "source": [
    "prediction_1 = [\n",
    "    1 if (pos > 0) and (neg == 0) else 0\n",
    "    for pos, neg in zip(pure_positive_subsets_lens, pure_negative_subsets_lens)\n",
    "]\n",
    "prediction_2 = [\n",
    "    1 if pos > neg else 0\n",
    "    for pos, neg in zip(pure_positive_subsets_lens, pure_negative_subsets_lens)\n",
    "]\n",
    "prediction_3 = [\n",
    "    1 if pos > 0 else 0\n",
    "    for pos, neg in zip(pure_positive_subsets_lens, pure_negative_subsets_lens)\n",
    "]\n",
    "prediction_4 = [\n",
    "    1 if neg == 0 else 0\n",
    "    for pos, neg in zip(pure_positive_subsets_lens, pure_negative_subsets_lens)\n",
    "]"
   ]
  },
  {
   "cell_type": "code",
   "execution_count": null,
   "metadata": {},
   "outputs": [],
   "source": [
    "print(accuracy_score(prediction_1, Y_test))\n",
    "print(accuracy_score(prediction_2, Y_test))\n",
    "print(accuracy_score(prediction_3, Y_test))\n",
    "print(accuracy_score(prediction_4, Y_test))"
   ]
  },
  {
   "cell_type": "code",
   "execution_count": null,
   "metadata": {},
   "outputs": [],
   "source": [
    "for pred, y, pos, neg in zip(prediction, Y_test, pure_positive_subsets_lens, pure_negative_subsets_lens):\n",
    "    if pred != y:\n",
    "        print(pred, y, pos, neg)"
   ]
  },
  {
   "cell_type": "code",
   "execution_count": null,
   "metadata": {},
   "outputs": [],
   "source": [
    "acc"
   ]
  },
  {
   "cell_type": "code",
   "execution_count": null,
   "metadata": {
    "scrolled": true
   },
   "outputs": [],
   "source": [
    "pos_lens = []\n",
    "neg_lens = []\n",
    "for x in X_test[Y_test == 1]:\n",
    "    pos, neg = lattices_predict(X_train, Y_train, x)\n",
    "    pos_lens.append(len(pos))\n",
    "    neg_lens.append(len(neg))"
   ]
  },
  {
   "cell_type": "code",
   "execution_count": null,
   "metadata": {},
   "outputs": [],
   "source": [
    "pos_lens"
   ]
  },
  {
   "cell_type": "code",
   "execution_count": null,
   "metadata": {},
   "outputs": [],
   "source": [
    "neg_lens"
   ]
  },
  {
   "cell_type": "code",
   "execution_count": null,
   "metadata": {},
   "outputs": [],
   "source": []
  },
  {
   "cell_type": "code",
   "execution_count": null,
   "metadata": {},
   "outputs": [],
   "source": [
    "accuracy_score(prediction, Y_test[:len(prediction)])"
   ]
  },
  {
   "cell_type": "code",
   "execution_count": null,
   "metadata": {},
   "outputs": [],
   "source": []
  }
 ],
 "metadata": {
  "kernelspec": {
   "display_name": "Python 3",
   "language": "python",
   "name": "python3"
  },
  "language_info": {
   "codemirror_mode": {
    "name": "ipython",
    "version": 3
   },
   "file_extension": ".py",
   "mimetype": "text/x-python",
   "name": "python",
   "nbconvert_exporter": "python",
   "pygments_lexer": "ipython3",
   "version": "3.7.0"
  }
 },
 "nbformat": 4,
 "nbformat_minor": 2
}
